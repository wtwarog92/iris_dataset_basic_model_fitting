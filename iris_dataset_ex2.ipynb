{
 "cells": [
  {
   "cell_type": "code",
   "execution_count": 1,
   "id": "728eebc7",
   "metadata": {},
   "outputs": [],
   "source": [
    "import numpy as np\n",
    "import pandas as pd\n",
    "import sklearn\n",
    "from sklearn import datasets"
   ]
  },
  {
   "cell_type": "code",
   "execution_count": 2,
   "id": "cfa65350",
   "metadata": {},
   "outputs": [],
   "source": [
    "# Loading in the iris dataset\n",
    "iris = datasets.load_iris()"
   ]
  },
  {
   "cell_type": "code",
   "execution_count": 3,
   "id": "05b08349",
   "metadata": {},
   "outputs": [],
   "source": [
    "# Creating the iris `data` dataset as a dataframe and name the columns with `feature_names`\n",
    "df = pd.DataFrame(iris.data, columns=iris.feature_names)\n",
    "\n",
    "# Including the target as well\n",
    "df['target'] = iris.target"
   ]
  },
  {
   "cell_type": "code",
   "execution_count": 4,
   "id": "310bb91b",
   "metadata": {},
   "outputs": [
    {
     "data": {
      "text/plain": [
       "array([0, 0, 0, 0, 0, 0, 0, 0, 0, 0, 0, 0, 0, 0, 0, 0, 0, 0, 0, 0, 0, 0,\n",
       "       0, 0, 0, 0, 0, 0, 0, 0, 0, 0, 0, 0, 0, 0, 0, 0, 0, 0, 0, 0, 0, 0,\n",
       "       0, 0, 0, 0, 0, 0, 1, 1, 1, 1, 1, 1, 1, 1, 1, 1, 1, 1, 1, 1, 1, 1,\n",
       "       1, 1, 1, 1, 1, 1, 1, 1, 1, 1, 1, 1, 1, 1, 1, 1, 1, 1, 1, 1, 1, 1,\n",
       "       1, 1, 1, 1, 1, 1, 1, 1, 1, 1, 1, 1, 2, 2, 2, 2, 2, 2, 2, 2, 2, 2,\n",
       "       2, 2, 2, 2, 2, 2, 2, 2, 2, 2, 2, 2, 2, 2, 2, 2, 2, 2, 2, 2, 2, 2,\n",
       "       2, 2, 2, 2, 2, 2, 2, 2, 2, 2, 2, 2, 2, 2, 2, 2, 2, 2])"
      ]
     },
     "execution_count": 4,
     "metadata": {},
     "output_type": "execute_result"
    }
   ],
   "source": [
    "# Target values as an array to compare against supervised and unsupervised\n",
    "df[\"target\"].to_numpy()"
   ]
  },
  {
   "cell_type": "code",
   "execution_count": 5,
   "id": "4b93f2b5",
   "metadata": {},
   "outputs": [],
   "source": [
    "#SUPERVISED ML\n",
    "from sklearn.linear_model import LinearRegression"
   ]
  },
  {
   "cell_type": "code",
   "execution_count": 6,
   "id": "8e4478be",
   "metadata": {},
   "outputs": [],
   "source": [
    "# initializing and fit a linear regression model\n",
    "reg = LinearRegression().fit(df[iris.feature_names], df['target'])"
   ]
  },
  {
   "cell_type": "code",
   "execution_count": 7,
   "id": "946b40aa",
   "metadata": {},
   "outputs": [
    {
     "data": {
      "text/plain": [
       "0.9303939218549564"
      ]
     },
     "execution_count": 7,
     "metadata": {},
     "output_type": "execute_result"
    }
   ],
   "source": [
    "# Scoring of the linear regression model, but slighly deceiving since the iris dataset is classifying not regression\n",
    "reg.score(df[iris.feature_names], df['target'])"
   ]
  },
  {
   "cell_type": "code",
   "execution_count": 8,
   "id": "d3691f84",
   "metadata": {},
   "outputs": [
    {
     "data": {
      "text/plain": [
       "array([-8.25493616e-02, -4.01284476e-02, -4.86276768e-02,  1.22998627e-02,\n",
       "       -7.53667248e-02,  5.82910066e-02,  3.83367194e-02, -4.44863248e-02,\n",
       "        1.98324281e-02, -8.21970989e-02, -1.01272512e-01,  7.59348686e-04,\n",
       "       -8.98630676e-02, -1.02503649e-01, -2.26652208e-01, -4.10494982e-02,\n",
       "       -3.31670043e-02, -2.16241562e-02, -3.21980063e-02, -1.07834994e-02,\n",
       "       -4.35196609e-02,  5.41496547e-02, -1.22062394e-01,  1.76835660e-01,\n",
       "        6.93528569e-02, -5.59002750e-03,  1.00228589e-01, -7.08754443e-02,\n",
       "       -8.97319983e-02,  1.99658314e-02,  1.27831946e-02,  3.26017444e-02,\n",
       "       -1.55848342e-01, -1.55367344e-01, -2.12718935e-02, -1.05063936e-01,\n",
       "       -1.50176206e-01, -1.25101345e-01, -7.04002332e-03, -5.56769102e-02,\n",
       "       -3.32980735e-02,  7.07502372e-02, -1.50559206e-02,  2.18071051e-01,\n",
       "        1.41599717e-01,  3.19873432e-02, -4.88442021e-02, -1.45725887e-02,\n",
       "       -9.00819270e-02, -6.33428789e-02,  1.20248442e+00,  1.28482413e+00,\n",
       "        1.32433716e+00,  1.18543801e+00,  1.31252984e+00,  1.25733961e+00,\n",
       "        1.39866098e+00,  9.05746439e-01,  1.17548090e+00,  1.24103868e+00,\n",
       "        9.56316654e-01,  1.28019945e+00,  9.50717416e-01,  1.31522353e+00,\n",
       "        1.05874172e+00,  1.17147061e+00,  1.38236471e+00,  9.75923347e-01,\n",
       "        1.34728479e+00,  1.02151661e+00,  1.59214618e+00,  1.09825476e+00,\n",
       "        1.41552837e+00,  1.19738107e+00,  1.12926856e+00,  1.18666915e+00,\n",
       "        1.26376188e+00,  1.49544119e+00,  1.34161032e+00,  8.53934864e-01,\n",
       "        1.01385065e+00,  9.30060938e-01,  1.05204475e+00,  1.54773844e+00,\n",
       "        1.40474588e+00,  1.38249578e+00,  1.30098933e+00,  1.18737134e+00,\n",
       "        1.16905629e+00,  1.17742211e+00,  1.20394697e+00,  1.28835108e+00,\n",
       "        1.07891720e+00,  8.98563803e-01,  1.20394464e+00,  1.11980500e+00,\n",
       "        1.18473815e+00,  1.15164973e+00,  8.71689017e-01,  1.16588160e+00,\n",
       "        2.24422636e+00,  1.75289522e+00,  1.90016020e+00,  1.74232371e+00,\n",
       "        2.00536441e+00,  2.00425879e+00,  1.60258896e+00,  1.79046937e+00,\n",
       "        1.75932217e+00,  2.15435175e+00,  1.71544659e+00,  1.73148072e+00,\n",
       "        1.84227394e+00,  1.81016241e+00,  2.05351330e+00,  1.95514179e+00,\n",
       "        1.69307008e+00,  2.04479432e+00,  2.19954392e+00,  1.48398847e+00,\n",
       "        1.99064688e+00,  1.78646464e+00,  1.96302340e+00,  1.59028808e+00,\n",
       "        1.88716969e+00,  1.72104260e+00,  1.57460622e+00,  1.60064541e+00,\n",
       "        1.91791669e+00,  1.56147908e+00,  1.79848293e+00,  1.83196924e+00,\n",
       "        1.97884189e+00,  1.44923353e+00,  1.53302790e+00,  2.00059610e+00,\n",
       "        2.08783520e+00,  1.70025272e+00,  1.58897149e+00,  1.80421091e+00,\n",
       "        2.05509670e+00,  1.85746781e+00,  1.75289522e+00,  2.04756647e+00,\n",
       "        2.13087051e+00,  1.90672143e+00,  1.68209369e+00,  1.74632699e+00,\n",
       "        1.99237157e+00,  1.66875559e+00])"
      ]
     },
     "execution_count": 8,
     "metadata": {},
     "output_type": "execute_result"
    }
   ],
   "source": [
    "# regression output floating point numbers\n",
    "reg.predict(df[iris.feature_names])"
   ]
  },
  {
   "cell_type": "code",
   "execution_count": 9,
   "id": "03238492",
   "metadata": {},
   "outputs": [],
   "source": [
    "#UNSUPERVISED ML\n",
    "from sklearn.cluster import KMeans"
   ]
  },
  {
   "cell_type": "code",
   "execution_count": 13,
   "id": "c4e1054c",
   "metadata": {},
   "outputs": [],
   "source": [
    "#Preparing model with n_clusters=3\n",
    "kmeans = KMeans(n_clusters=3, random_state=0).fit(df[iris[\"feature_names\"]])"
   ]
  },
  {
   "cell_type": "code",
   "execution_count": 14,
   "id": "b870c9ff",
   "metadata": {},
   "outputs": [
    {
     "data": {
      "text/plain": [
       "array([1, 1, 1, 1, 1, 1, 1, 1, 1, 1, 1, 1, 1, 1, 1, 1, 1, 1, 1, 1, 1, 1,\n",
       "       1, 1, 1, 1, 1, 1, 1, 1, 1, 1, 1, 1, 1, 1, 1, 1, 1, 1, 1, 1, 1, 1,\n",
       "       1, 1, 1, 1, 1, 1, 0, 0, 2, 0, 0, 0, 0, 0, 0, 0, 0, 0, 0, 0, 0, 0,\n",
       "       0, 0, 0, 0, 0, 0, 0, 0, 0, 0, 0, 2, 0, 0, 0, 0, 0, 0, 0, 0, 0, 0,\n",
       "       0, 0, 0, 0, 0, 0, 0, 0, 0, 0, 0, 0, 2, 0, 2, 2, 2, 2, 0, 2, 2, 2,\n",
       "       2, 2, 2, 0, 0, 2, 2, 2, 2, 0, 2, 0, 2, 0, 2, 2, 0, 0, 2, 2, 2, 2,\n",
       "       2, 0, 2, 2, 2, 2, 0, 2, 2, 2, 0, 2, 2, 2, 0, 2, 2, 0], dtype=int32)"
      ]
     },
     "execution_count": 14,
     "metadata": {},
     "output_type": "execute_result"
    }
   ],
   "source": [
    "# Print the labels to see what value is in what cluster\n",
    "kmeans.labels_"
   ]
  },
  {
   "cell_type": "code",
   "execution_count": 15,
   "id": "cb959915",
   "metadata": {},
   "outputs": [],
   "source": [
    "#Checking how model will look with n_clusters=4\n",
    "kmeans = KMeans(n_clusters=4, random_state=0).fit(df[iris[\"feature_names\"]])"
   ]
  },
  {
   "cell_type": "code",
   "execution_count": 16,
   "id": "8aa5d433",
   "metadata": {},
   "outputs": [
    {
     "data": {
      "text/plain": [
       "array([1, 1, 1, 1, 1, 1, 1, 1, 1, 1, 1, 1, 1, 1, 1, 1, 1, 1, 1, 1, 1, 1,\n",
       "       1, 1, 1, 1, 1, 1, 1, 1, 1, 1, 1, 1, 1, 1, 1, 1, 1, 1, 1, 1, 1, 1,\n",
       "       1, 1, 1, 1, 1, 1, 3, 3, 3, 0, 3, 0, 3, 0, 3, 0, 0, 0, 0, 3, 0, 3,\n",
       "       0, 0, 3, 0, 3, 0, 3, 3, 3, 3, 3, 3, 3, 0, 0, 0, 0, 3, 0, 3, 3, 3,\n",
       "       0, 0, 0, 3, 0, 0, 0, 0, 0, 3, 0, 0, 2, 3, 2, 2, 2, 2, 0, 2, 2, 2,\n",
       "       3, 3, 2, 3, 3, 2, 2, 2, 2, 3, 2, 3, 2, 3, 2, 2, 3, 3, 2, 2, 2, 2,\n",
       "       2, 3, 3, 2, 2, 2, 3, 2, 2, 2, 3, 2, 2, 2, 3, 3, 2, 3], dtype=int32)"
      ]
     },
     "execution_count": 16,
     "metadata": {},
     "output_type": "execute_result"
    }
   ],
   "source": [
    "# Printing the labels to see what value is in what cluster\n",
    "kmeans.labels_"
   ]
  },
  {
   "cell_type": "code",
   "execution_count": null,
   "id": "489a2dd7",
   "metadata": {},
   "outputs": [],
   "source": []
  }
 ],
 "metadata": {
  "kernelspec": {
   "display_name": "Python 3 (ipykernel)",
   "language": "python",
   "name": "python3"
  },
  "language_info": {
   "codemirror_mode": {
    "name": "ipython",
    "version": 3
   },
   "file_extension": ".py",
   "mimetype": "text/x-python",
   "name": "python",
   "nbconvert_exporter": "python",
   "pygments_lexer": "ipython3",
   "version": "3.9.7"
  }
 },
 "nbformat": 4,
 "nbformat_minor": 5
}
